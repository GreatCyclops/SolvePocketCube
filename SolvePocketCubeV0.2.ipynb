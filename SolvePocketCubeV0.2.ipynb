{
 "cells": [
  {
   "cell_type": "code",
   "execution_count": 1,
   "metadata": {},
   "outputs": [],
   "source": [
    "import numpy as np"
   ]
  },
  {
   "cell_type": "code",
   "execution_count": 6,
   "metadata": {},
   "outputs": [
    {
     "name": "stdout",
     "output_type": "stream",
     "text": [
      "[[0 0 0 5]\n",
      " [0 0 0 0]\n",
      " [0 0 0 0]\n",
      " [0 0 0 0]\n",
      " [0 0 0 0]\n",
      " [0 0 0 0]]\n"
     ]
    }
   ],
   "source": [
    "cube = np.zeros((6, 4),dtype='i')\n",
    "cube[0][3]=5\n",
    "print(cube)"
   ]
  },
  {
   "cell_type": "code",
   "execution_count": 12,
   "metadata": {},
   "outputs": [],
   "source": [
    "def InitCube():\n",
    "# 初始化函数，新建四维数组并从键盘输入魔方的初始状态\n",
    "    print(\"请将您的魔方任选一面对着自己并按照前、右、后、左、上、下的顺序以及每一面按照从上到下从左到右的顺序输入颜色\")\n",
    "    # 先不搞键盘输入，直接自定义\n",
    "    # 0-5分别表示橙蓝红绿黄白六种颜色\n",
    "    \n",
    "    # 前\n",
    "    cube[0][0]=0\n",
    "    cube[0][1]=0\n",
    "    cube[0][2]=0\n",
    "    cube[0][3]=0\n",
    "    \n",
    "    #右\n",
    "    cube[1][0]=1\n",
    "    cube[1][1]=1\n",
    "    cube[1][2]=1\n",
    "    cube[1][3]=1\n",
    "    \n",
    "    #后\n",
    "    cube[2][0]=2\n",
    "    cube[2][1]=2\n",
    "    cube[2][2]=2\n",
    "    cube[2][3]=2\n",
    "    \n",
    "    #左\n",
    "    cube[3][0]=3\n",
    "    cube[3][1]=3\n",
    "    cube[3][2]=3\n",
    "    cube[3][3]=3\n",
    "    \n",
    "    #上\n",
    "    cube[4][0]=4\n",
    "    cube[4][1]=4\n",
    "    cube[4][2]=4\n",
    "    cube[4][3]=4\n",
    "    \n",
    "    #下\n",
    "    cube[5][0]=5\n",
    "    cube[5][1]=5\n",
    "    cube[5][2]=5\n",
    "    cube[5][3]=5"
   ]
  },
  {
   "cell_type": "code",
   "execution_count": null,
   "metadata": {},
   "outputs": [],
   "source": [
    "def FirstStep():\n",
    "    # 还原魔方的第一步\n",
    "    \n"
   ]
  },
  {
   "cell_type": "code",
   "execution_count": 13,
   "metadata": {},
   "outputs": [],
   "source": [
    "def Rotate(direction):\n",
    "    # 对魔方进行旋转操作，direction为0、1、2、3分别表示左、上、右、下\n",
    "    if(direction==0):#\"左\"\n",
    "        \n",
    "        a=cube[0][0]\n",
    "        b=cube[0][1]\n",
    "        \n",
    "        #前\n",
    "        cube[0][0]=cube[1][0]\n",
    "        cube[0][1]=cube[1][1]\n",
    "\n",
    "        #右\n",
    "        cube[1][0]=cube[2][0]\n",
    "        cube[1][1]=cube[2][1]\n",
    "\n",
    "        #后\n",
    "        cube[2][0]=cube[3][0]\n",
    "        cube[2][1]=cube[3][1]\n",
    "\n",
    "        #左\n",
    "        cube[3][0]=a\n",
    "        cube[3][1]=b\n",
    "        \n",
    "        #上\n",
    "        a=cube[4][0]\n",
    "        cube[4][0]=cube[4][1]\n",
    "        cube[4][1]=cube[4][2]\n",
    "        cube[4][2]=cube[4][3]\n",
    "        cube[4][3]=cube[4][0]\n",
    "        \n",
    "    if(direction==1):#“上”\n",
    "        \n",
    "        a=cube[0][0]\n",
    "        b=cube[0][1]\n",
    "        \n",
    "        #前\n",
    "        cube[0][0]=cube[1][0]\n",
    "        cube[0][1]=cube[1][1]\n",
    "\n",
    "        #右\n",
    "        cube[1][0]=cube[2][0]\n",
    "        cube[1][1]=cube[2][1]\n",
    "\n",
    "        #后\n",
    "        cube[2][0]=cube[3][0]\n",
    "        cube[2][1]=cube[3][1]\n",
    "\n",
    "        #左\n",
    "        cube[3][0]=a\n",
    "        cube[3][1]=b"
   ]
  },
  {
   "cell_type": "code",
   "execution_count": 14,
   "metadata": {},
   "outputs": [
    {
     "name": "stdout",
     "output_type": "stream",
     "text": [
      "请将您的魔方任选一面对着自己并按照前、右、后、左、上、下的顺序以及每一面按照从上到下从左到右的顺序输入颜色\n",
      "[[1 1 0 0]\n",
      " [2 2 1 1]\n",
      " [3 3 2 2]\n",
      " [0 0 3 3]\n",
      " [4 4 4 4]\n",
      " [5 5 5 5]]\n"
     ]
    }
   ],
   "source": [
    "InitCube()\n",
    "Rotate(0)\n",
    "print(cube)"
   ]
  },
  {
   "cell_type": "code",
   "execution_count": 4,
   "metadata": {},
   "outputs": [],
   "source": [
    "def main():\n",
    "# 主函数\n",
    "    cube = np.zeros((2, 2, 2, 6),dtype='i')\n",
    "    InitCube()\n",
    "    FirstStep()\n",
    "    SecondStep()\n",
    "    ThirdStep()"
   ]
  },
  {
   "cell_type": "code",
   "execution_count": null,
   "metadata": {},
   "outputs": [],
   "source": [
    "int SecondStep()//还原魔方的第二步\n",
    "int ThirdStep()//还原魔方的第三步\n",
    "int PrintCube()//将魔方当前的状态打印出来\n",
    "int JudgeSolve()//检验魔方是否已经复原"
   ]
  }
 ],
 "metadata": {
  "kernelspec": {
   "display_name": "Python [conda env:root] *",
   "language": "python",
   "name": "conda-root-py"
  },
  "language_info": {
   "codemirror_mode": {
    "name": "ipython",
    "version": 3
   },
   "file_extension": ".py",
   "mimetype": "text/x-python",
   "name": "python",
   "nbconvert_exporter": "python",
   "pygments_lexer": "ipython3",
   "version": "3.8.3"
  }
 },
 "nbformat": 4,
 "nbformat_minor": 4
}
