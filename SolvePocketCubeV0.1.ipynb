{
 "cells": [
  {
   "cell_type": "code",
   "execution_count": 1,
   "metadata": {},
   "outputs": [],
   "source": [
    "import numpy as np"
   ]
  },
  {
   "cell_type": "code",
   "execution_count": 8,
   "metadata": {},
   "outputs": [
    {
     "name": "stdout",
     "output_type": "stream",
     "text": [
      "[[[[0 0 0 0 0 0]\n",
      "   [0 0 0 0 0 0]]\n",
      "\n",
      "  [[0 0 0 0 0 5]\n",
      "   [0 0 0 0 0 0]]]\n",
      "\n",
      "\n",
      " [[[0 0 0 0 0 0]\n",
      "   [0 0 0 0 0 0]]\n",
      "\n",
      "  [[0 0 0 0 0 0]\n",
      "   [0 0 0 0 0 0]]]]\n"
     ]
    }
   ],
   "source": [
    "cube = np.zeros((2, 2, 2, 6),dtype='i')\n",
    "cube[0][1][0][5]=5\n",
    "print(cube)"
   ]
  },
  {
   "cell_type": "code",
   "execution_count": 5,
   "metadata": {},
   "outputs": [],
   "source": [
    "def InitCube():\n",
    "# 初始化函数，新建四维数组并从键盘输入魔方的初始状态\n",
    "    print(\"请将您的魔方任选一面对着自己并按照前、右、后、左、上、下的顺序以及每一面按照从上到下从左到右的顺序输入颜色\")\n",
    "    # 先不搞键盘输入，直接自定义\n",
    "    # 0-5分别表示橙蓝红绿黄白六种颜色\n",
    "    \n",
    "    # 前\n",
    "    cube[1][0][1][5]=5 #1\n",
    "    cube[1][0][0][5]=5 #2\n",
    "    cube[0][0][0][5]=5 #3\n",
    "    cube[0][0][1][5]=5 #4\n",
    "    \n",
    "    #右\n",
    "    cube[0][0][0][5]=5 #5\n",
    "    cube[0][0][0][5]=5 #6    \n",
    "    cube[0][1][0][5]=5 #7\n",
    "    cube[0][1][0][5]=5 #8\n",
    "    \n",
    "    #后\n",
    "    cube[0][1][0][5]=5 #9\n",
    "    cube[0][1][0][5]=5 #10\n",
    "    cube[0][1][0][5]=5 #11\n",
    "    cube[0][1][0][5]=5 #12\n",
    "    \n",
    "    #左\n",
    "    cube[0][1][0][5]=5 #13\n",
    "    cube[0][1][0][5]=5 #14\n",
    "    cube[0][1][0][5]=5 #15\n",
    "    cube[0][1][0][5]=5 #16\n",
    "    \n",
    "    #上\n",
    "    cube[0][1][0][5]=5 #17\n",
    "    cube[0][1][0][5]=5 #18\n",
    "    cube[0][1][0][5]=5 #19\n",
    "    cube[0][1][0][5]=5 #20\n",
    "    \n",
    "    #下\n",
    "    cube[0][1][0][5]=5 #21\n",
    "    cube[0][1][0][5]=5 #22\n",
    "    cube[0][1][0][5]=5 #23\n",
    "    cube[0][1][0][5]=5 #24\n",
    "    \n",
    "int FirstStep()//还原魔方的第一步\n",
    "int SecondStep()//还原魔方的第二步\n",
    "int ThirdStep()//还原魔方的第三步\n",
    "int Rotate(int direction)//对魔方进行旋转操作，direction为0、1、2、3分别表示左、上、右、下\n",
    "int PrintCube()//将魔方当前的状态打印出来\n",
    "int JudgeSolve()//检验魔方是否已经复原"
   ]
  },
  {
   "cell_type": "code",
   "execution_count": 7,
   "metadata": {},
   "outputs": [],
   "source": [
    "def main():\n",
    "# 主函数\n",
    "    cube = np.zeros((2, 2, 2, 6),dtype='i')\n",
    "    InitCube()\n",
    "    FirstStep()\n",
    "    SecondStep()\n",
    "    ThirdStep()"
   ]
  },
  {
   "cell_type": "code",
   "execution_count": null,
   "metadata": {},
   "outputs": [],
   "source": [
    "main()\n"
   ]
  }
 ],
 "metadata": {
  "kernelspec": {
   "display_name": "Python [conda env:root] *",
   "language": "python",
   "name": "conda-root-py"
  },
  "language_info": {
   "codemirror_mode": {
    "name": "ipython",
    "version": 3
   },
   "file_extension": ".py",
   "mimetype": "text/x-python",
   "name": "python",
   "nbconvert_exporter": "python",
   "pygments_lexer": "ipython3",
   "version": "3.8.3"
  }
 },
 "nbformat": 4,
 "nbformat_minor": 4
}
